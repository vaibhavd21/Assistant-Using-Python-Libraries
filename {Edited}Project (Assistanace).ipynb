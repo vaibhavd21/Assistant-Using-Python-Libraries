{
 "cells": [
  {
   "cell_type": "code",
   "execution_count": 1,
   "metadata": {},
   "outputs": [],
   "source": [
    "#pyttsx3 is a text-to-speech conversion library"
   ]
  },
  {
   "cell_type": "code",
   "execution_count": 3,
   "metadata": {},
   "outputs": [
    {
     "name": "stdout",
     "output_type": "stream",
     "text": [
      "Requirement already satisfied: pyttsx3 in c:\\users\\sudarshan\\anaconda3\\lib\\site-packages (2.90)\n",
      "Requirement already satisfied: comtypes in c:\\users\\sudarshan\\anaconda3\\lib\\site-packages (from pyttsx3) (1.1.7)\n",
      "Requirement already satisfied: pywin32 in c:\\users\\sudarshan\\anaconda3\\lib\\site-packages (from pyttsx3) (227)\n",
      "Requirement already satisfied: pypiwin32 in c:\\users\\sudarshan\\anaconda3\\lib\\site-packages (from pyttsx3) (223)\n"
     ]
    }
   ],
   "source": [
    "!pip install pyttsx3  "
   ]
  },
  {
   "cell_type": "code",
   "execution_count": 4,
   "metadata": {},
   "outputs": [
    {
     "name": "stdout",
     "output_type": "stream",
     "text": [
      "Requirement already satisfied: speechRecognition in c:\\users\\sudarshan\\anaconda3\\lib\\site-packages (3.8.1)\n"
     ]
    }
   ],
   "source": [
    "!pip install speechRecognition"
   ]
  },
  {
   "cell_type": "code",
   "execution_count": 5,
   "metadata": {},
   "outputs": [
    {
     "name": "stdout",
     "output_type": "stream",
     "text": [
      "Requirement already satisfied: wikipedia in c:\\users\\sudarshan\\anaconda3\\lib\\site-packages (1.4.0)\n",
      "Requirement already satisfied: beautifulsoup4 in c:\\users\\sudarshan\\anaconda3\\lib\\site-packages (from wikipedia) (4.9.3)\n",
      "Requirement already satisfied: requests<3.0.0,>=2.0.0 in c:\\users\\sudarshan\\anaconda3\\lib\\site-packages (from wikipedia) (2.24.0)\n",
      "Requirement already satisfied: chardet<4,>=3.0.2 in c:\\users\\sudarshan\\anaconda3\\lib\\site-packages (from requests<3.0.0,>=2.0.0->wikipedia) (3.0.4)\n",
      "Requirement already satisfied: certifi>=2017.4.17 in c:\\users\\sudarshan\\anaconda3\\lib\\site-packages (from requests<3.0.0,>=2.0.0->wikipedia) (2020.6.20)\n",
      "Requirement already satisfied: urllib3!=1.25.0,!=1.25.1,<1.26,>=1.21.1 in c:\\users\\sudarshan\\anaconda3\\lib\\site-packages (from requests<3.0.0,>=2.0.0->wikipedia) (1.25.11)\n",
      "Requirement already satisfied: idna<3,>=2.5 in c:\\users\\sudarshan\\anaconda3\\lib\\site-packages (from requests<3.0.0,>=2.0.0->wikipedia) (2.10)\n",
      "Requirement already satisfied: soupsieve>1.2 in c:\\users\\sudarshan\\anaconda3\\lib\\site-packages (from beautifulsoup4->wikipedia) (2.0.1)\n"
     ]
    }
   ],
   "source": [
    "!pip install wikipedia"
   ]
  },
  {
   "cell_type": "code",
   "execution_count": 10,
   "metadata": {},
   "outputs": [
    {
     "name": "stdout",
     "output_type": "stream",
     "text": [
      "Collecting pywhatkit\n",
      "  Downloading pywhatkit-3.8-py3-none-any.whl (7.8 kB)\n",
      "Requirement already satisfied: Pillow in c:\\programdata\\anaconda3\\lib\\site-packages (from pywhatkit) (7.2.0)\n",
      "Collecting pyautogui\n",
      "  Downloading PyAutoGUI-0.9.52.tar.gz (55 kB)\n",
      "Requirement already satisfied: beautifulsoup4 in c:\\programdata\\anaconda3\\lib\\site-packages (from pywhatkit) (4.9.1)\n",
      "Requirement already satisfied: requests in c:\\programdata\\anaconda3\\lib\\site-packages (from pywhatkit) (2.24.0)\n",
      "Requirement already satisfied: wikipedia in c:\\programdata\\anaconda3\\lib\\site-packages (from pywhatkit) (1.4.0)\n",
      "Collecting pymsgbox\n",
      "  Downloading PyMsgBox-1.0.9.tar.gz (18 kB)\n",
      "  Installing build dependencies: started\n",
      "  Installing build dependencies: finished with status 'done'\n",
      "  Getting requirements to build wheel: started\n",
      "  Getting requirements to build wheel: finished with status 'done'\n",
      "    Preparing wheel metadata: started\n",
      "    Preparing wheel metadata: finished with status 'done'\n",
      "Collecting PyTweening>=1.0.1\n",
      "  Downloading PyTweening-1.0.3.zip (15 kB)\n",
      "Collecting pyscreeze>=0.1.21\n",
      "  Downloading PyScreeze-0.1.26.tar.gz (23 kB)\n",
      "Collecting pygetwindow>=0.0.5\n",
      "  Downloading PyGetWindow-0.0.9.tar.gz (9.7 kB)\n",
      "Collecting mouseinfo\n",
      "  Downloading MouseInfo-0.1.3.tar.gz (10 kB)\n",
      "Requirement already satisfied: soupsieve>1.2 in c:\\programdata\\anaconda3\\lib\\site-packages (from beautifulsoup4->pywhatkit) (2.0.1)\n",
      "Requirement already satisfied: idna<3,>=2.5 in c:\\programdata\\anaconda3\\lib\\site-packages (from requests->pywhatkit) (2.10)\n",
      "Requirement already satisfied: certifi>=2017.4.17 in c:\\programdata\\anaconda3\\lib\\site-packages (from requests->pywhatkit) (2020.6.20)\n",
      "Requirement already satisfied: chardet<4,>=3.0.2 in c:\\programdata\\anaconda3\\lib\\site-packages (from requests->pywhatkit) (3.0.4)\n",
      "Requirement already satisfied: urllib3!=1.25.0,!=1.25.1,<1.26,>=1.21.1 in c:\\programdata\\anaconda3\\lib\\site-packages (from requests->pywhatkit) (1.25.9)\n",
      "Collecting pyrect\n",
      "  Downloading PyRect-0.1.4.tar.gz (15 kB)\n",
      "Collecting pyperclip\n",
      "  Downloading pyperclip-1.8.1.tar.gz (20 kB)\n",
      "Building wheels for collected packages: pyautogui, pymsgbox, PyTweening, pyscreeze, pygetwindow, mouseinfo, pyrect, pyperclip\n",
      "  Building wheel for pyautogui (setup.py): started\n",
      "  Building wheel for pyautogui (setup.py): finished with status 'done'\n",
      "  Created wheel for pyautogui: filename=PyAutoGUI-0.9.52-py3-none-any.whl size=35198 sha256=d279f547576670eb0035f78be783832ac290cf7f54eb9d2c548f36dcf95b62d6\n",
      "  Stored in directory: c:\\users\\i'mvaibhav\\appdata\\local\\pip\\cache\\wheels\\4d\\0d\\6a\\4258cb741835ea9ce7897652ae88272d3baf5cb1944c1984aa\n",
      "  Building wheel for pymsgbox (PEP 517): started\n",
      "  Building wheel for pymsgbox (PEP 517): finished with status 'done'\n",
      "  Created wheel for pymsgbox: filename=PyMsgBox-1.0.9-py3-none-any.whl size=7420 sha256=b741684ed9fa67fb0e9cfe0651bc20775b5569513476713db952aa0cc1eebce4\n",
      "  Stored in directory: c:\\users\\i'mvaibhav\\appdata\\local\\pip\\cache\\wheels\\91\\28\\0d\\f4eb606d38276836237d6dc2abf094241e6db5682a126e0389\n",
      "  Building wheel for PyTweening (setup.py): started\n",
      "  Building wheel for PyTweening (setup.py): finished with status 'done'\n",
      "  Created wheel for PyTweening: filename=PyTweening-1.0.3-py3-none-any.whl size=3820 sha256=617f4f8c449166ca965ff375ba8607921a8beb27d0f57d44535d62fa62e8704a\n",
      "  Stored in directory: c:\\users\\i'mvaibhav\\appdata\\local\\pip\\cache\\wheels\\e7\\50\\20\\790fbd95739abfdf0348bef99d5cc0c7c2930a19a91f602ddc\n",
      "  Building wheel for pyscreeze (setup.py): started\n",
      "  Building wheel for pyscreeze (setup.py): finished with status 'done'\n",
      "  Created wheel for pyscreeze: filename=PyScreeze-0.1.26-py3-none-any.whl size=11938 sha256=771f1e11f5e41827d1bb10ea60fbae2d441239bc5e672752499f50729fc12dbb\n",
      "  Stored in directory: c:\\users\\i'mvaibhav\\appdata\\local\\pip\\cache\\wheels\\b9\\1c\\f2\\f6a3a846873ff464c47a46baa7edc12fb5f266d296494201fe\n",
      "  Building wheel for pygetwindow (setup.py): started\n",
      "  Building wheel for pygetwindow (setup.py): finished with status 'done'\n",
      "  Created wheel for pygetwindow: filename=PyGetWindow-0.0.9-py3-none-any.whl size=11083 sha256=1125c59d3fb6273409cfad0d1b3e60e1311f81a3a5f148c838e86e95941e2c2a\n",
      "  Stored in directory: c:\\users\\i'mvaibhav\\appdata\\local\\pip\\cache\\wheels\\91\\e3\\04\\184bda98ec7f7d5f0ba1f372bcf7b3ba86325151ae1dd690fe\n",
      "  Building wheel for mouseinfo (setup.py): started\n",
      "  Building wheel for mouseinfo (setup.py): finished with status 'done'\n",
      "  Created wheel for mouseinfo: filename=MouseInfo-0.1.3-py3-none-any.whl size=10910 sha256=bc0480deea237c9d891b852e770eb6503eb441df4c65798a6cbaa4e918be008e\n",
      "  Stored in directory: c:\\users\\i'mvaibhav\\appdata\\local\\pip\\cache\\wheels\\d1\\72\\fb\\35f403de66285df8ecca7049bcc61bfb57aba0f76d1f08f7eb\n",
      "  Building wheel for pyrect (setup.py): started\n",
      "  Building wheel for pyrect (setup.py): finished with status 'done'\n",
      "  Created wheel for pyrect: filename=PyRect-0.1.4-py2.py3-none-any.whl size=9552 sha256=b3e142068a86d113bad7c5fcab28a7c8eaca834b0a2735aa787b70a5c4067d3a\n",
      "  Stored in directory: c:\\users\\i'mvaibhav\\appdata\\local\\pip\\cache\\wheels\\d1\\e4\\47\\c62f8291b16b6df7e89ac885881ff71f35ca04c6e384251de9\n",
      "  Building wheel for pyperclip (setup.py): started\n",
      "  Building wheel for pyperclip (setup.py): finished with status 'done'\n",
      "  Created wheel for pyperclip: filename=pyperclip-1.8.1-py3-none-any.whl size=11124 sha256=1abd847dc4a1e6f542b0bcc5accf010317b07e14632a3ec981ba0d71f6082fe0\n",
      "  Stored in directory: c:\\users\\i'mvaibhav\\appdata\\local\\pip\\cache\\wheels\\67\\0c\\ba\\1468f38115898442e13f99a19a8dcf1e0ca73488053ef7b388\n",
      "Successfully built pyautogui pymsgbox PyTweening pyscreeze pygetwindow mouseinfo pyrect pyperclip\n",
      "Installing collected packages: pymsgbox, PyTweening, pyscreeze, pyrect, pygetwindow, pyperclip, mouseinfo, pyautogui, pywhatkit\n",
      "Successfully installed PyTweening-1.0.3 mouseinfo-0.1.3 pyautogui-0.9.52 pygetwindow-0.0.9 pymsgbox-1.0.9 pyperclip-1.8.1 pyrect-0.1.4 pyscreeze-0.1.26 pywhatkit-3.8\n"
     ]
    }
   ],
   "source": [
    "!pip install pywhatkit"
   ]
  },
  {
   "cell_type": "code",
   "execution_count": 6,
   "metadata": {},
   "outputs": [
    {
     "name": "stdout",
     "output_type": "stream",
     "text": [
      "Requirement already satisfied: pyaudio in c:\\users\\sudarshan\\anaconda3\\lib\\site-packages (0.2.11)\n"
     ]
    }
   ],
   "source": [
    "!pip install pyaudio"
   ]
  },
  {
   "cell_type": "code",
   "execution_count": 7,
   "metadata": {},
   "outputs": [
    {
     "name": "stdout",
     "output_type": "stream",
     "text": [
      "Requirement already satisfied: setuptools in c:\\users\\sudarshan\\anaconda3\\lib\\site-packages (51.1.0)\n"
     ]
    }
   ],
   "source": [
    "!pip install --upgrade setuptools"
   ]
  },
  {
   "cell_type": "code",
   "execution_count": 8,
   "metadata": {},
   "outputs": [
    {
     "name": "stdout",
     "output_type": "stream",
     "text": [
      "Requirement already satisfied: pip in c:\\users\\sudarshan\\anaconda3\\lib\\site-packages (20.3.3)\n"
     ]
    }
   ],
   "source": [
    "!pip install --upgrade pip"
   ]
  },
  {
   "cell_type": "code",
   "execution_count": 42,
   "metadata": {},
   "outputs": [],
   "source": [
    "import pyttsx3 \n",
    "import speech_recognition as sr\n",
    "import datetime\n",
    "import wikipedia\n",
    "import webbrowser\n",
    "import os  #connects with os..To open file\n",
    "import requests\n",
    "import sys\n",
    "import bs4\n",
    "import pywhatkit as pkit"
   ]
  },
  {
   "cell_type": "code",
   "execution_count": 43,
   "metadata": {},
   "outputs": [],
   "source": [
    "#code from stack overflow(doubt in 2 and 3 line)\n",
    "\n",
    "engine = pyttsx3.init('sapi5') \n",
    "voices = engine.getProperty('voices')\n",
    "engine.setProperty('voice',voices[0].id)\n",
    "\n",
    "def speaks_from_here(text):  #this function will pronounce the text passed.\n",
    "    engine.say(text)\n",
    "    engine.runAndWait()"
   ]
  },
  {
   "cell_type": "code",
   "execution_count": 44,
   "metadata": {},
   "outputs": [],
   "source": [
    "def name_of_owner():\n",
    "    while True:\n",
    "        r = sr.Recognizer()\n",
    "        with sr.Microphone() as source:\n",
    "            print(\"Please say your name....\")\n",
    "            speaks_from_here(\"Please say your name....\")\n",
    "            name_audio = r.listen(source)\n",
    "      \n",
    "        z = True\n",
    "        try:\n",
    "\n",
    "            print(\"just a second... Searching your name.\")\n",
    "            name = r.recognize_google(name_audio, language = 'en-in')\n",
    "    \n",
    "            \n",
    "            print(\"We recorded your name as  : {}\".format(name))   #going again to recognizer\n",
    "            \n",
    "      \n",
    "            \n",
    "\n",
    "        except Exception as err:\n",
    "            name = 'People'\n",
    "        return name"
   ]
  },
  {
   "cell_type": "code",
   "execution_count": 45,
   "metadata": {},
   "outputs": [],
   "source": [
    "#by me\n",
    "#me=input(\"Enter name from which assistance should address you : \")\n",
    "def warm_message(name):\n",
    "    hour = int(datetime.datetime.now().hour)\n",
    "    #print(hour)\n",
    "    if hour>=0 and hour<6:\n",
    "        speaks_from_here(\"It's time to go to sleep!! \" + name)\n",
    "    elif hour>=6 and hour<12:\n",
    "        speaks_from_here(\"Good Morning, \" + name)\n",
    "    elif hour>=12 and hour<17:\n",
    "        speaks_from_here(\"Good Afternoon, \" + name)\n",
    "    elif hour>=17 and hour<24:\n",
    "        speaks_from_here(\"Good Evening, \" + name)\n",
    "     \n",
    "    \n",
    "    \n",
    "    speaks_from_here(\"Your Assistance is here for you.....\")"
   ]
  },
  {
   "cell_type": "code",
   "execution_count": 46,
   "metadata": {},
   "outputs": [],
   "source": [
    "def input_from_ur_side():\n",
    "    \n",
    "    r = sr.Recognizer()\n",
    "    with sr.Microphone() as source:\n",
    "        print(\"Listening.....\")\n",
    "        speaks_from_here(\"Listening....\")\n",
    "        audio = r.listen(source)\n",
    "    b = True\n",
    "    #while b:\n",
    "    try:\n",
    "        print(\"just a second... Recognizing.\")\n",
    "        inp = r.recognize_google(audio, language = 'en-in')\n",
    "        print(\"Getting result for : {}\".format(inp))   #going again to recognizer \n",
    "        b = False\n",
    "\n",
    "    except Exception as err:\n",
    "        print(\"Didn't recognized!! Can you go for it again?\")\n",
    "        inp = None\n",
    "    return inp"
   ]
  },
  {
   "cell_type": "code",
   "execution_count": 47,
   "metadata": {},
   "outputs": [],
   "source": [
    "def routine_name(file):\n",
    "    sp = file.split(\"\\\\\")\n",
    "    sp = sp[-1]\n",
    "    sp = str(sp)\n",
    "    sp = sp.split(\".\")\n",
    "    return sp[0]"
   ]
  },
  {
   "cell_type": "code",
   "execution_count": 68,
   "metadata": {},
   "outputs": [],
   "source": [
    "def assist():\n",
    "    \n",
    "    name = name_of_owner()\n",
    "    \n",
    "    \n",
    "    #print(inp)\n",
    "    #speaks_from_here(text)\n",
    "\n",
    "    #lets code logic here\n",
    "    \n",
    "    #res = requests.get()\n",
    "    warm_message(name)\n",
    "    n,file_loc = \"\",\"\"\n",
    "    try:\n",
    "        inp = input_from_ur_side()\n",
    "        inp_low = inp.lower()\n",
    "        inp_l = inp_low.split(\" \")\n",
    "        \n",
    "        w = ['send', 'WhatsApp', 'message']\n",
    "        if 'wikipedia' in inp.lower():\n",
    "            speaks_from_here('searching...')\n",
    "            inp = inp.replace(\"wikipedia\",\"\")\n",
    "            res = wikipedia.summary(inp, sentences = 2)\n",
    "            print(res)\n",
    "            speaks_from_here(res)\n",
    "\n",
    "\n",
    "\n",
    "        elif 'youtube' in inp.lower():\n",
    "            inp = inp.replace(\"YouTube\",\"\")\n",
    "            webbrowser.register('chrome',None,webbrowser.BackgroundBrowser(\"C://Program Files (x86)//Google//Chrome//Application//chrome.exe\"))\n",
    "            webbrowser.get('chrome').open(\"https://www.youtube.com/results?search_query={}\".format(inp))\n",
    "\n",
    "        elif 'android studio' in inp.lower():\n",
    "            path_to_it = \"C:\\\\Program Files\\\\Android\\\\Android Studio\\\\bin\\\\studio64.exe\"\n",
    "            os.startfile(path_to_it)\n",
    "\n",
    "        elif 'google' in inp.lower():\n",
    "            inp = inp.replace(\"Google\",\"\")\n",
    "            webbrowser.register('chrome',None,webbrowser.BackgroundBrowser(\"C://Program Files (x86)//Google//Chrome//Application//chrome.exe\"))\n",
    "            webbrowser.get('chrome').open(\"https://www.google.com/search?q={}\".format(inp))\n",
    "\n",
    "        #elif 'com' in inp.split(\".\"):    #here you can open any website (text should be like websitename.com)\n",
    "         #   webbrowser.register('chrome',None,webbrowser.BackgroundBrowser(\"C://Program Files (x86)//Google//Chrome//Application//chrome.exe\"))\n",
    "          #  webbrowser.get('chrome').open(inp)\n",
    "            \n",
    "        elif 'cmd' in inp.lower():\n",
    "            os.system(\"start cmd\")\n",
    "            \n",
    "        elif 'help' in inp.lower():\n",
    "            guide()\n",
    "\n",
    "        \n",
    "        elif 'insert' in inp.lower():\n",
    "            speaks_from_here(\"ok, give me a file location.\")\n",
    "            file_loc = input(\"\")\n",
    "            speaks_from_here(\"Added!\")\n",
    "            n = routine_name(file_loc)\n",
    "            speaks_from_here(n)\n",
    "            assist()\n",
    "       #elif n in inp.lower():\n",
    "        #   os.startfile(file_loc)\n",
    "            \n",
    "        elif 'whatsapp' in inp_low:\n",
    "            \n",
    "            \n",
    "            pkit.sendwhatmsg(\"+919657607532\",\"Sent using python\",13,58)\n",
    "            \n",
    "            \n",
    "            \n",
    "    except Exception as e:\n",
    "        print(\"Quiet\")\n"
   ]
  },
  {
   "cell_type": "code",
   "execution_count": 69,
   "metadata": {},
   "outputs": [],
   "source": [
    "def guide():\n",
    "    print(\"Assistance guide : \")\n",
    "    print(\"1) Include Wikipedia in your sentence to search accordingly\")\n",
    "    print(\"2) Include Google in your sentence to query on Google\")\n",
    "    print(\"3) Include YouTube in your sentence to play on YouTube\")\n",
    "    print(\"4) Want to do speific routine task for you? Speak 'Insert'\")\n",
    "          "
   ]
  },
  {
   "cell_type": "code",
   "execution_count": 70,
   "metadata": {},
   "outputs": [
    {
     "name": "stdout",
     "output_type": "stream",
     "text": [
      "Starting Assistance\n",
      "Please say your name....\n",
      "just a second... Searching your name.\n",
      "We recorded your name as  : Vaibhav\n",
      "Listening.....\n",
      "just a second... Recognizing.\n",
      "Getting result for : WhatsApp\n",
      "In 27 seconds web.whatsapp.com will open and after 20 seconds message will be delivered\n"
     ]
    }
   ],
   "source": [
    "print(\"Starting Assistance\")\n",
    "assist()"
   ]
  },
  {
   "cell_type": "code",
   "execution_count": 37,
   "metadata": {},
   "outputs": [
    {
     "ename": "SyntaxError",
     "evalue": "'break' outside loop (<ipython-input-37-55c524024f15>, line 4)",
     "output_type": "error",
     "traceback": [
      "\u001b[1;36m  File \u001b[1;32m\"<ipython-input-37-55c524024f15>\"\u001b[1;36m, line \u001b[1;32m4\u001b[0m\n\u001b[1;33m    break\u001b[0m\n\u001b[1;37m    ^\u001b[0m\n\u001b[1;31mSyntaxError\u001b[0m\u001b[1;31m:\u001b[0m 'break' outside loop\n"
     ]
    }
   ],
   "source": [
    "\n",
    "if 'sudarshan' in name.lower():\n",
    "    warm_message()\n",
    "    assist()\n",
    "    break\n",
    "elif 'vaibhav' in name.lower():\n",
    "    warm_message()\n",
    "    assist()\n",
    "    break\n",
    "elif 'tanmay' in name.lower():\n",
    "    warm_message()\n",
    "    assist()\n",
    "    break\n",
    "else:\n",
    "    print(\"Not in records,Sorry..\")\n",
    "    continue\n",
    "    z = False\n",
    "          "
   ]
  },
  {
   "cell_type": "code",
   "execution_count": null,
   "metadata": {},
   "outputs": [],
   "source": []
  }
 ],
 "metadata": {
  "kernelspec": {
   "display_name": "Python 3",
   "language": "python",
   "name": "python3"
  },
  "language_info": {
   "codemirror_mode": {
    "name": "ipython",
    "version": 3
   },
   "file_extension": ".py",
   "mimetype": "text/x-python",
   "name": "python",
   "nbconvert_exporter": "python",
   "pygments_lexer": "ipython3",
   "version": "3.8.3"
  }
 },
 "nbformat": 4,
 "nbformat_minor": 4
}
